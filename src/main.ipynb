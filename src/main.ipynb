{
 "cells": [
  {
   "cell_type": "markdown",
   "metadata": {},
   "source": [
    "## Imports"
   ]
  },
  {
   "cell_type": "code",
   "execution_count": null,
   "metadata": {},
   "outputs": [],
   "source": [
    "import pandas as pd\n",
    "import numpy as np\n",
    "import seaborn as sns\n",
    "from scipy.stats import normaltest\n",
    "\n",
    "import matplotlib.pyplot as plt\n",
    "from pandas.plotting import scatter_matrix\n",
    "\n",
    "from sklearn.model_selection import train_test_split\n",
    "from sklearn.linear_model import LinearRegression\n",
    "from sklearn.tree import DecisionTreeRegressor\n",
    "from sklearn.ensemble import RandomForestRegressor\n",
    "from sklearn.metrics import mean_squared_error\n",
    "from sklearn.gaussian_process import GaussianProcessRegressor\n",
    "from sklearn.gaussian_process.kernels import RBF"
   ]
  },
  {
   "attachments": {},
   "cell_type": "markdown",
   "metadata": {},
   "source": [
    "## Pre-processing"
   ]
  },
  {
   "cell_type": "code",
   "execution_count": null,
   "metadata": {},
   "outputs": [],
   "source": [
    "csv_path = '../data/household_data_60min_singleindex.csv'\n",
    "\n",
    "df = pd.read_csv(csv_path, parse_dates=[\"utc_timestamp\", \"cet_cest_timestamp\"], index_col=\"utc_timestamp\")\n",
    "print('input data: ', df.shape)\n",
    "#residential building in suburban area\n",
    "columns_to_drop = [col for col in df.columns if not col.startswith('DE_KN_residential2')]\n",
    "\n",
    "# Clear data\n",
    "df = df.drop(columns= columns_to_drop)\n",
    "df = df.dropna(how='all')\n",
    "\n",
    "#Data shape and sample\n",
    "print(f'Data shape after droping NaN {df.shape}')\n",
    "df.head()"
   ]
  },
  {
   "cell_type": "markdown",
   "metadata": {},
   "source": [
    "## Processing data"
   ]
  },
  {
   "cell_type": "code",
   "execution_count": null,
   "metadata": {},
   "outputs": [],
   "source": [
    "df.describe()"
   ]
  },
  {
   "cell_type": "markdown",
   "metadata": {},
   "source": [
    "### NaN values"
   ]
  },
  {
   "cell_type": "code",
   "execution_count": null,
   "metadata": {},
   "outputs": [],
   "source": [
    "df.isna().sum()"
   ]
  },
  {
   "cell_type": "code",
   "execution_count": null,
   "metadata": {},
   "outputs": [],
   "source": [
    "df = df.diff().fillna(0)\n",
    "df.head()"
   ]
  },
  {
   "cell_type": "code",
   "execution_count": null,
   "metadata": {},
   "outputs": [],
   "source": [
    "daily_usage_filtered = []\n",
    "K = 2 #standard deviations\n",
    "\n",
    "for column_name in df:\n",
    "    mean = df[column_name].mean()\n",
    "    std_dev = df[column_name].std()\n",
    "\n",
    "    # Define a range for normal values\n",
    "    lower_bound = mean - K * std_dev\n",
    "    upper_bound = mean + K * std_dev\n",
    "\n",
    "    # Filter out values outside the normal range\n",
    "    df = df[(df[column_name] >= lower_bound) & (df[column_name] <= upper_bound)]"
   ]
  },
  {
   "cell_type": "code",
   "execution_count": null,
   "metadata": {},
   "outputs": [],
   "source": [
    "grid_import = df['DE_KN_residential2_grid_import']\n",
    "\n",
    "df = df.drop(columns= 'DE_KN_residential2_grid_import')"
   ]
  },
  {
   "cell_type": "code",
   "execution_count": null,
   "metadata": {},
   "outputs": [],
   "source": [
    "df['sum'] = df.sum(axis=1, numeric_only=True)\n",
    "df.head()"
   ]
  },
  {
   "cell_type": "markdown",
   "metadata": {},
   "source": [
    "## Graphs"
   ]
  },
  {
   "cell_type": "code",
   "execution_count": null,
   "metadata": {},
   "outputs": [],
   "source": [
    "# Energy consumption plot\n",
    "df_daily_sum = df.resample('D').sum()\n",
    "plt.figure(figsize=(10, 6))\n",
    "\n",
    "plt.plot(df_daily_sum.index, df_daily_sum['DE_KN_residential2_dishwasher'], label='Zmywarka')\n",
    "plt.plot(df_daily_sum.index, df_daily_sum['DE_KN_residential2_freezer'], label='Zamrażarka')\n",
    "plt.plot(df_daily_sum.index, df_daily_sum['DE_KN_residential2_circulation_pump'], label='Pompa obiegowa')\n",
    "plt.plot(df_daily_sum.index, df_daily_sum['DE_KN_residential2_washing_machine'], label='Pralka')\n",
    "\n",
    "plt.xlabel('Data')\n",
    "plt.ylabel('Zużycie')\n",
    "plt.title('Zużycie energi elektrycznej w czasie')\n",
    "\n",
    "plt.legend()\n",
    "plt.xticks(rotation=45)\n",
    "plt.tight_layout()\n",
    "plt.show()"
   ]
  },
  {
   "cell_type": "code",
   "execution_count": null,
   "metadata": {},
   "outputs": [],
   "source": [
    "df_daily_sum.shape"
   ]
  },
  {
   "cell_type": "code",
   "execution_count": null,
   "metadata": {},
   "outputs": [],
   "source": [
    "# Sum energy consumption plot\n",
    "plt.figure(figsize=(10, 6))\n",
    "\n",
    "plt.plot(df_daily_sum.index, df_daily_sum['sum'], label='Domostwo')\n",
    "\n",
    "plt.xlabel('Data')\n",
    "plt.ylabel('Zużycie energii [kWh]')\n",
    "plt.title('Zużycie energi elektrycznej w czasie')\n",
    "\n",
    "plt.legend()\n",
    "plt.xticks(rotation=45)\n",
    "plt.tight_layout()\n",
    "plt.show()"
   ]
  },
  {
   "cell_type": "code",
   "execution_count": null,
   "metadata": {},
   "outputs": [],
   "source": [
    "correlation_matrix = df.corr()\n",
    "correlation_matrix.head()"
   ]
  },
  {
   "cell_type": "code",
   "execution_count": null,
   "metadata": {},
   "outputs": [],
   "source": [
    "df.hist(figsize=(10, 8))\n",
    "plt.suptitle(\"Histograms of Data Columns\")\n",
    "plt.show()"
   ]
  },
  {
   "cell_type": "code",
   "execution_count": null,
   "metadata": {},
   "outputs": [],
   "source": [
    "# Create heatmap correlation matrix \n",
    "plt.figure(figsize=(5, 4))\n",
    "sns.heatmap(correlation_matrix, annot=True, cmap='coolwarm', center=0)\n",
    "plt.title(\"Correlation Heatmap\")\n",
    "plt.show()"
   ]
  },
  {
   "cell_type": "code",
   "execution_count": null,
   "metadata": {},
   "outputs": [],
   "source": [
    "# Correlation matrix using scatter_matrix\n",
    "scatter_matrix(df[['DE_KN_residential2_circulation_pump','DE_KN_residential2_dishwasher','DE_KN_residential2_freezer','DE_KN_residential2_washing_machine','sum']], figsize=(15, 15))\n",
    "plt.suptitle(\"Scatter Matrix of Selected Features\")\n",
    "plt.show()"
   ]
  },
  {
   "cell_type": "markdown",
   "metadata": {},
   "source": [
    "## Split data "
   ]
  },
  {
   "cell_type": "code",
   "execution_count": null,
   "metadata": {},
   "outputs": [],
   "source": [
    "df = pd.DataFrame(df_daily_sum)\n",
    "\n",
    "# Prepare features and target\n",
    "features = (df.index.astype(np.int64) // 10**9).values.reshape(-1,1)\n",
    "\n",
    "#features = grid_import.values.reshape(-1,1)\n",
    "target = df['sum']\n",
    "\n",
    "# Split data for training and testing\n",
    "X_train, X_test, y_train, y_test = train_test_split(features, target, test_size=0.2, random_state=11)\n"
   ]
  },
  {
   "cell_type": "markdown",
   "metadata": {},
   "source": [
    "## LinearRegression model"
   ]
  },
  {
   "cell_type": "code",
   "execution_count": null,
   "metadata": {},
   "outputs": [],
   "source": [
    "# Create Linear Regression model\n",
    "model_LR = LinearRegression()\n",
    "\n",
    "# Train the model on the training data\n",
    "model_LR.fit(X_train, y_train)\n",
    "\n",
    "print(f'R^2: {model_LR.score(X_test,y_test)}')\n",
    "\n",
    "# Make predictions on the testing data\n",
    "y_pred = model_LR.predict(X_test)\n",
    "\n",
    "# Evaluate model performance using Mean Squared Error\n",
    "mse_LR = mean_squared_error(y_test, y_pred)"
   ]
  },
  {
   "cell_type": "code",
   "execution_count": null,
   "metadata": {},
   "outputs": [],
   "source": [
    "y_pred = model_LR.predict(X_test)\n",
    "results_df = pd.DataFrame({'Actual': y_test, 'Predicted': y_pred})\n",
    "plt.figure(figsize=(12, 6))\n",
    "sns.lineplot(data=results_df)\n",
    "plt.xlabel(\"Date\")\n",
    "plt.ylabel(\"Value\")\n",
    "plt.title(\"Actual vs Predicted Values Over Time for Linear Regression model\")\n",
    "plt.legend()\n",
    "plt.show()"
   ]
  },
  {
   "cell_type": "code",
   "execution_count": null,
   "metadata": {},
   "outputs": [],
   "source": [
    "plt.scatter(y_test, y_pred, label='Predicted vs Actual for ')\n",
    "plt.plot(y_test, y_test, color='r', label='Perfect Prediction Line')\n",
    "plt.xlabel(\"Actual Values\")\n",
    "plt.ylabel(\"Predicted Values\")\n",
    "plt.title(\"Actual vs Predicted Values for Linear Regression model\")\n",
    "plt.legend()\n",
    "plt.show()"
   ]
  },
  {
   "cell_type": "markdown",
   "metadata": {},
   "source": [
    "## DecisionTreeRegressor Model"
   ]
  },
  {
   "cell_type": "code",
   "execution_count": null,
   "metadata": {},
   "outputs": [],
   "source": [
    "model_tree = DecisionTreeRegressor(max_depth=15)  # You can adjust hyperparameters like max_depth\n",
    "model_tree.fit(X_train, y_train)"
   ]
  },
  {
   "cell_type": "code",
   "execution_count": null,
   "metadata": {},
   "outputs": [],
   "source": [
    "print(f'R^2: {model_tree.score(X_test,y_test)}')\n",
    "y_pred = model_tree.predict(X_test)\n",
    "mse_DTR = mean_squared_error(y_test, y_pred)\n",
    "print(\"Mean Squared Error:\", mse_DTR)"
   ]
  },
  {
   "cell_type": "code",
   "execution_count": null,
   "metadata": {},
   "outputs": [],
   "source": [
    "y_pred = model_tree.predict(X_test)\n",
    "results_df = pd.DataFrame({'Actual': y_test, 'Predicted': y_pred})\n",
    "plt.figure(figsize=(12, 6))\n",
    "sns.lineplot(data=results_df)\n",
    "plt.xlabel(\"Date\")\n",
    "plt.ylabel(\"Value\")\n",
    "plt.title(\"Actual vs Predicted Values Over Time\")\n",
    "plt.legend()\n",
    "plt.show()"
   ]
  },
  {
   "cell_type": "code",
   "execution_count": null,
   "metadata": {},
   "outputs": [],
   "source": [
    "plt.scatter(y_test, y_pred, label='Predicted vs Actual')\n",
    "plt.plot(y_test, y_test, color='r', label='Perfect Prediction Line')\n",
    "\n",
    "plt.xlabel(\"Actual Values\")\n",
    "plt.ylabel(\"Predicted Values\")\n",
    "plt.title(\"Actual vs Predicted Values\")\n",
    "plt.show()"
   ]
  },
  {
   "cell_type": "markdown",
   "metadata": {},
   "source": [
    "## RandomForestRegressor Model"
   ]
  },
  {
   "cell_type": "code",
   "execution_count": null,
   "metadata": {},
   "outputs": [],
   "source": [
    "model_rfr = RandomForestRegressor(n_estimators=100, random_state=100)\n",
    "\n",
    "model_rfr.fit(X_train, y_train)\n",
    "print(f'R^2: {model_rfr.score(X_test,y_test)}')\n",
    "\n",
    "y_pred = model_rfr.predict(X_test)\n",
    "mse = mean_squared_error(y_test, y_pred)\n",
    "print(\"Mean Squared Error:\", mse)"
   ]
  },
  {
   "cell_type": "code",
   "execution_count": null,
   "metadata": {},
   "outputs": [],
   "source": [
    "y_pred = model_rfr.predict(X_test)\n",
    "results_df = pd.DataFrame({'Actual': y_test, 'Predicted': y_pred})\n",
    "plt.figure(figsize=(12, 6))\n",
    "sns.lineplot(data=results_df)\n",
    "plt.xlabel(\"Date\")\n",
    "plt.ylabel(\"Value\")\n",
    "plt.title(\"Actual vs Predicted Values Over Time\")\n",
    "plt.legend()\n",
    "plt.show()"
   ]
  },
  {
   "cell_type": "code",
   "execution_count": null,
   "metadata": {},
   "outputs": [],
   "source": [
    "plt.scatter(y_test, y_pred, label='Predicted vs Actual')\n",
    "plt.plot(y_test, y_test, color='r', label='Perfect Prediction Line')\n",
    "\n",
    "plt.xlabel(\"Actual Values\")\n",
    "plt.ylabel(\"Predicted Values\")\n",
    "plt.title(\"Actual vs Predicted Values\")\n",
    "plt.show()"
   ]
  },
  {
   "cell_type": "markdown",
   "metadata": {},
   "source": [
    "## GaussianProcessRegressor Model"
   ]
  },
  {
   "cell_type": "code",
   "execution_count": null,
   "metadata": {},
   "outputs": [],
   "source": [
    "# Prepare features and target\n",
    "features = (df.index.astype(np.int64) // 10**9).values.reshape(-1,1)\n",
    "\n",
    "#features = grid_import.values.reshape(-1,1)\n",
    "target = df['sum']\n",
    "\n",
    "# Split data for training and testing\n",
    "X_train, X_test, y_train, y_test = train_test_split(features, target, test_size=0.2, random_state=11)\n"
   ]
  },
  {
   "cell_type": "code",
   "execution_count": null,
   "metadata": {},
   "outputs": [],
   "source": [
    "from sklearn.gaussian_process.kernels import RBF, Matern, RationalQuadratic\n",
    "\n",
    "kernel_rbf = RBF(length_scale=1.0)\n",
    "model_rbf = GaussianProcessRegressor(kernel=kernel_rbf, n_restarts_optimizer=10)\n",
    "model_rbf.fit(X_train, y_train)\n",
    "y_pred_rbf = model_rbf.predict(X_test)\n",
    "print(f'R^2: {model_rbf.score(X_test,y_test)}')"
   ]
  },
  {
   "cell_type": "code",
   "execution_count": null,
   "metadata": {},
   "outputs": [],
   "source": [
    "y_pred = model_rbf.predict(X_test)\n",
    "results_df = pd.DataFrame({'Actual': y_test, 'Predicted': y_pred})\n",
    "plt.figure(figsize=(12, 6))\n",
    "sns.lineplot(data=results_df)\n",
    "plt.xlabel(\"Date\")\n",
    "plt.ylabel(\"Value\")\n",
    "plt.title(\"Actual vs Predicted Values Over Time\")\n",
    "plt.legend()\n",
    "plt.show()"
   ]
  },
  {
   "cell_type": "code",
   "execution_count": null,
   "metadata": {},
   "outputs": [],
   "source": [
    "plt.scatter(y_test, y_pred, label='Predicted vs Actual')\n",
    "plt.plot(y_test, y_test, color='r', label='Perfect Prediction Line')\n",
    "\n",
    "plt.xlabel(\"Actual Values\")\n",
    "plt.ylabel(\"Predicted Values\")\n",
    "plt.title(\"Actual vs Predicted Values\")\n",
    "plt.show()"
   ]
  },
  {
   "cell_type": "code",
   "execution_count": null,
   "metadata": {},
   "outputs": [],
   "source": [
    "results_df = pd.DataFrame({'Actual': y_test, 'Predicted': y_pred})\n",
    "\n",
    "# Ustaw styl Seaborn\n",
    "sns.set_style('whitegrid')\n",
    "\n",
    "plt.figure(figsize=(10, 6))\n",
    "sns.residplot(x=results_df['utc_timestamp'], y=results_df['Actual'] - results_df['Predicted'], lowess=True)\n",
    "plt.xlabel(\"Date\")\n",
    "plt.ylabel(\"Residuals\")\n",
    "plt.title(\"Residuals of Predicted Energy Consumption Over Time\")\n",
    "plt.xticks(rotation=45)\n",
    "plt.tight_layout()\n",
    "plt.show()"
   ]
  }
 ],
 "metadata": {
  "kernelspec": {
   "display_name": "venv",
   "language": "python",
   "name": "python3"
  },
  "language_info": {
   "codemirror_mode": {
    "name": "ipython",
    "version": 3
   },
   "file_extension": ".py",
   "mimetype": "text/x-python",
   "name": "python",
   "nbconvert_exporter": "python",
   "pygments_lexer": "ipython3",
   "version": "3.10.4"
  },
  "orig_nbformat": 4,
  "vscode": {
   "interpreter": {
    "hash": "fec48fdc321f828689c53cc0330873517c5c1bca93b506c3ae4d0b6ca934a486"
   }
  }
 },
 "nbformat": 4,
 "nbformat_minor": 2
}
