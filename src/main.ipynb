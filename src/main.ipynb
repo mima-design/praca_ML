{
 "cells": [
  {
   "cell_type": "markdown",
   "metadata": {},
   "source": [
    "## Imports"
   ]
  },
  {
   "cell_type": "code",
   "execution_count": null,
   "metadata": {},
   "outputs": [],
   "source": [
    "import pandas as pd\n",
    "import numpy as np\n",
    "\n",
    "import matplotlib.pyplot as plt\n",
    "import matplotlib.dates as mdates\n",
    "\n",
    "from sklearn.model_selection import train_test_split\n",
    "from sklearn.linear_model import LinearRegression"
   ]
  },
  {
   "attachments": {},
   "cell_type": "markdown",
   "metadata": {},
   "source": [
    "## Preprocesing"
   ]
  },
  {
   "cell_type": "code",
   "execution_count": null,
   "metadata": {},
   "outputs": [],
   "source": [
    "csv_path = '../data/household_data_60min_singleindex.csv'\n",
    "\n",
    "df = pd.read_csv(csv_path, parse_dates=[\"utc_timestamp\", \"cet_cest_timestamp\"], index_col=\"utc_timestamp\")\n",
    "\n",
    "#residential building in suburban area\n",
    "columns_to_drop = [col for col in df.columns if not col.startswith('DE_KN_residential2')]\n",
    "\n",
    "# Clear data\n",
    "df = df.drop(columns= columns_to_drop)\n",
    "df = df.dropna(how='all')\n",
    "\n",
    "#Data shape and sample\n",
    "print(f'Data shape: {df.shape}')\n",
    "df.head()"
   ]
  },
  {
   "cell_type": "markdown",
   "metadata": {},
   "source": [
    "## Processing data"
   ]
  },
  {
   "cell_type": "code",
   "execution_count": null,
   "metadata": {},
   "outputs": [],
   "source": [
    "df = df.diff().fillna(0)\n",
    "#sum days \n",
    "df = df.resample('D').sum()\n",
    "df.head()"
   ]
  },
  {
   "cell_type": "code",
   "execution_count": null,
   "metadata": {},
   "outputs": [],
   "source": [
    "daily_usage_filtered = []\n",
    "K = 8 #standard deviations\n",
    "\n",
    "for column_name in df:\n",
    "    mean = df[column_name].mean()\n",
    "    std_dev = df[column_name].std()\n",
    "\n",
    "    # Define a range for normal values (e.g., within 2 standard deviations)\n",
    "    lower_bound = mean - K * std_dev\n",
    "    upper_bound = mean + K * std_dev\n",
    "\n",
    "    # Filter out values outside the normal range\n",
    "    df = df[(df[column_name] >= lower_bound) & (df[column_name] <= upper_bound)]"
   ]
  },
  {
   "cell_type": "code",
   "execution_count": null,
   "metadata": {},
   "outputs": [],
   "source": [
    "df.head()"
   ]
  },
  {
   "cell_type": "code",
   "execution_count": null,
   "metadata": {},
   "outputs": [],
   "source": [
    "grid_import = df['DE_KN_residential2_grid_import']\n",
    "\n",
    "df = df.drop(columns= 'DE_KN_residential2_grid_import')"
   ]
  },
  {
   "cell_type": "code",
   "execution_count": null,
   "metadata": {},
   "outputs": [],
   "source": [
    "df['sum'] = df.sum(axis=1, numeric_only=True)\n",
    "df.head()"
   ]
  },
  {
   "cell_type": "markdown",
   "metadata": {},
   "source": [
    "## Graphs"
   ]
  },
  {
   "cell_type": "code",
   "execution_count": null,
   "metadata": {},
   "outputs": [],
   "source": [
    "plt.figure(figsize=(10, 6))\n",
    "\n",
    "plt.plot(df.index, df['DE_KN_residential2_circulation_pump'], label='Pompa obiegowa')\n",
    "plt.plot(df.index, df['DE_KN_residential2_freezer'], label='Zamrażarka')\n",
    "\n",
    "plt.xlabel('Data')\n",
    "plt.ylabel('Zużycie')\n",
    "plt.title('Zużycie energi elektrycznej w czasie')\n",
    "\n",
    "plt.legend()\n",
    "plt.xticks(rotation=45)\n",
    "plt.tight_layout()\n",
    "plt.show()"
   ]
  },
  {
   "cell_type": "code",
   "execution_count": null,
   "metadata": {},
   "outputs": [],
   "source": [
    "plt.figure(figsize=(10, 6))\n",
    "\n",
    "plt.plot(df.index, df['sum'], label='Domostwo')\n",
    "\n",
    "plt.xlabel('Data')\n",
    "plt.ylabel('Zużycie energii [kWh]')\n",
    "plt.title('Zużycie energi elektrycznej w czasie')\n",
    "\n",
    "plt.legend()\n",
    "plt.xticks(rotation=45)\n",
    "plt.tight_layout()\n",
    "plt.show()"
   ]
  },
  {
   "cell_type": "markdown",
   "metadata": {},
   "source": [
    "## Normality"
   ]
  },
  {
   "cell_type": "code",
   "execution_count": null,
   "metadata": {},
   "outputs": [],
   "source": [
    "from scipy.stats  import normaltest\n",
    "\n",
    "statistic, p_value = normaltest(df['sum'])\n",
    "\n",
    "print(f'Test statistic: {statistic}')\n",
    "print(f'P-values, if lower than 0.05 then its normal distribution: {p_value}')"
   ]
  },
  {
   "cell_type": "markdown",
   "metadata": {},
   "source": [
    "## Split data "
   ]
  },
  {
   "cell_type": "code",
   "execution_count": null,
   "metadata": {},
   "outputs": [],
   "source": [
    "# Prepare features and target\n",
    "features = (df.index.astype(np.int64) // 10**9).values.reshape(-1,1)\n",
    "#features = grid_import.values.reshape(-1,1)\n",
    "target = df['sum']\n",
    "\n",
    "# Split data for training and testing\n",
    "X_train, X_test, y_train, y_test = train_test_split(features, target, test_size=0.1, random_state=11)\n"
   ]
  },
  {
   "cell_type": "markdown",
   "metadata": {},
   "source": [
    "## LinearRegression model"
   ]
  },
  {
   "cell_type": "code",
   "execution_count": null,
   "metadata": {},
   "outputs": [],
   "source": [
    "from sklearn.linear_model import LinearRegression\n",
    "from sklearn.metrics import mean_squared_error\n",
    "\n",
    "# Create Linear Regression model\n",
    "model_LR = LinearRegression()\n",
    "\n",
    "# Train the model on the training data\n",
    "model_LR.fit(X_train, y_train)\n",
    "\n",
    "# Make predictions on the testing data\n",
    "y_pred = model_LR.predict(X_test)\n",
    "\n",
    "# Evaluate model performance using Mean Squared Error\n",
    "mse_LR = mean_squared_error(y_test, y_pred)"
   ]
  },
  {
   "cell_type": "code",
   "execution_count": null,
   "metadata": {},
   "outputs": [],
   "source": [
    "plt.scatter(y_test, y_pred, label='Predicted vs Actual')\n",
    "plt.plot(y_test, y_test, color='r', label='Perfect Prediction Line')\n",
    "plt.xlabel(\"Actual Values\")\n",
    "plt.ylabel(\"Predicted Values\")\n",
    "plt.title(\"Actual vs Predicted Values\")\n",
    "plt.legend()\n",
    "plt.show()"
   ]
  },
  {
   "cell_type": "code",
   "execution_count": null,
   "metadata": {},
   "outputs": [],
   "source": [
    "residuals = y_test - y_pred\n",
    "plt.scatter(y_pred, residuals)\n",
    "plt.xlabel(\"Predicted Values\")\n",
    "plt.ylabel(\"Residuals\")\n",
    "plt.axhline(y=0, color='r', linestyle='--')\n",
    "plt.title(\"Residual Plot\")\n",
    "plt.show()"
   ]
  },
  {
   "cell_type": "code",
   "execution_count": null,
   "metadata": {},
   "outputs": [],
   "source": [
    "coefficients = model_LR.coef_\n",
    "intercept = model_LR.intercept_\n",
    "print(\"Coefficients:\", coefficients)\n",
    "print(\"Intercept:\", intercept)"
   ]
  },
  {
   "cell_type": "markdown",
   "metadata": {},
   "source": [
    "## DecisionTreeRegressor Model"
   ]
  },
  {
   "cell_type": "code",
   "execution_count": null,
   "metadata": {},
   "outputs": [],
   "source": [
    "from sklearn.tree import DecisionTreeRegressor"
   ]
  },
  {
   "cell_type": "code",
   "execution_count": null,
   "metadata": {},
   "outputs": [],
   "source": [
    "model_tree = DecisionTreeRegressor(max_depth=8)  # You can adjust hyperparameters like max_depth\n",
    "model_tree.fit(X_train, y_train)"
   ]
  },
  {
   "cell_type": "code",
   "execution_count": null,
   "metadata": {},
   "outputs": [],
   "source": [
    "y_pred = model_tree.predict(X_test)\n",
    "mse_DTR = mean_squared_error(y_test, y_pred)\n",
    "print(\"Mean Squared Error:\", mse_DTR)"
   ]
  },
  {
   "cell_type": "code",
   "execution_count": null,
   "metadata": {},
   "outputs": [],
   "source": [
    "plt.scatter(y_test, y_pred, label='Predicted vs Actual')\n",
    "plt.plot(y_test, y_test, color='r', label='Perfect Prediction Line')\n",
    "\n",
    "plt.xlabel(\"Actual Values\")\n",
    "plt.ylabel(\"Predicted Values\")\n",
    "plt.title(\"Actual vs Predicted Values\")\n",
    "plt.show()"
   ]
  },
  {
   "cell_type": "code",
   "execution_count": null,
   "metadata": {},
   "outputs": [],
   "source": [
    "residuals = y_test - y_pred\n",
    "plt.scatter(y_pred, residuals)\n",
    "plt.xlabel('Predicted Values')\n",
    "plt.ylabel('Residuals')\n",
    "plt.title('Residuals vs. Predicted')\n",
    "plt.axhline(y=0, color='r', linestyle='--')\n",
    "plt.show()"
   ]
  },
  {
   "cell_type": "code",
   "execution_count": null,
   "metadata": {},
   "outputs": [],
   "source": [
    "plt.hist(residuals, bins=10)\n",
    "plt.xlabel('Residuals')\n",
    "plt.ylabel('Frequency')\n",
    "plt.title('Histogram of Residuals')\n",
    "plt.show()"
   ]
  },
  {
   "cell_type": "code",
   "execution_count": null,
   "metadata": {},
   "outputs": [],
   "source": [
    "X = df.index.hour.values.reshape(-1, 1)\n",
    "xticks = pd.date_range(start=df.index.min(), end=df.index.max(),freq='D')"
   ]
  },
  {
   "cell_type": "code",
   "execution_count": null,
   "metadata": {},
   "outputs": [],
   "source": [
    "def eval_on_features(features, target, regressor, n_train):\n",
    "    X_train, X_test = features[:n_train], features[n_train:]\n",
    "\n",
    "    y_train, y_test = target[:n_train], target[n_train:]\n",
    "    regressor.fit(X_train, y_train)\n",
    "\n",
    "    print('Zestaw testowy R^2: {:.2f}'.format(regressor.score(X_test, y_test)))\n",
    "    \n",
    "    y_pred = regressor.predict(X_test)\n",
    "    y_pred_train = regressor.predict(X_train)\n",
    "\n",
    "    mse = mean_squared_error(y_test, y_pred)\n",
    "\n",
    "    plt.figure(figsize=(10,3))\n",
    "    plt.xticks(range(0, len(X), 20), rotation=45, ha='left')\n",
    "    plt.plot(range(n_train), y_train, label='dane uczące')\n",
    "    plt.plot(range(n_train, (len(y_test) + n_train)), y_test, '-', label='dane testowe')\n",
    "    plt.plot(range(n_train), y_pred_train, '--', label='prognoza dla uczących')\n",
    "    plt.plot(range(n_train, len(y_test) + n_train), y_pred, '--', label='prognoza dla testowych')\n",
    "    plt.legend()\n",
    "    plt.xlabel('Data')\n",
    "    plt.ylabel('Wykorzystanie energii [kWh]')\n",
    "    print(\"Mean Squared Error:\", mse)"
   ]
  },
  {
   "cell_type": "markdown",
   "metadata": {},
   "source": [
    "## RandomForestRegressor"
   ]
  },
  {
   "cell_type": "code",
   "execution_count": null,
   "metadata": {},
   "outputs": [],
   "source": [
    "from sklearn.ensemble import RandomForestRegressor\n",
    "\n",
    "regressor = RandomForestRegressor(n_estimators=100, random_state=22)\n",
    "\n",
    "n_train = 100\n",
    "df = df[50:1050]\n",
    "y = df['sum']\n",
    "y = y.values\n",
    "X_hour_week = np.hstack([df.index.dayofweek.values.reshape(-1,1), df.index.hour.values.reshape(-1,1)])\n"
   ]
  },
  {
   "cell_type": "code",
   "execution_count": null,
   "metadata": {},
   "outputs": [],
   "source": [
    "eval_on_features(X_hour_week, y, regressor, n_train)"
   ]
  },
  {
   "cell_type": "markdown",
   "metadata": {},
   "source": [
    "## Ridge"
   ]
  },
  {
   "cell_type": "code",
   "execution_count": null,
   "metadata": {},
   "outputs": [],
   "source": [
    "from sklearn.preprocessing import OneHotEncoder\n",
    "from sklearn.linear_model import Ridge\n",
    "\n",
    "enc = OneHotEncoder()\n",
    "X_hour_week_onehot = enc.fit_transform(X_hour_week).toarray()"
   ]
  },
  {
   "cell_type": "code",
   "execution_count": null,
   "metadata": {},
   "outputs": [],
   "source": [
    "eval_on_features(X_hour_week_onehot, y, Ridge(), n_train)"
   ]
  },
  {
   "cell_type": "markdown",
   "metadata": {},
   "source": [
    "## Linear Regression"
   ]
  },
  {
   "cell_type": "code",
   "execution_count": null,
   "metadata": {},
   "outputs": [],
   "source": [
    "eval_on_features(X_hour_week, y, LinearRegression(),n_train)"
   ]
  },
  {
   "cell_type": "code",
   "execution_count": null,
   "metadata": {},
   "outputs": [],
   "source": [
    "from sklearn.tree import DecisionTreeRegressor\n",
    "\n",
    "model_tree = DecisionTreeRegressor(max_depth=8)  # You can adjust hyperparameters like max_depth\n",
    "\n",
    "eval_on_features(X_hour_week, y, model_tree,n_train)"
   ]
  },
  {
   "cell_type": "markdown",
   "metadata": {},
   "source": [
    "## Conclusion"
   ]
  },
  {
   "cell_type": "code",
   "execution_count": null,
   "metadata": {},
   "outputs": [],
   "source": [
    "print(\"Mean Squared Error for Linear Regresion:\", mse_LR)\n",
    "print(\"Mean Squared Error for Decision Tree Regression:\", mse_DTR)\n",
    "#print(\"Mean Squared Error (Gaussian Process):\", mse_GPR)\n",
    "print(\"Mean Squared Error for Random Forest Regression:\", mse_RFR)"
   ]
  }
 ],
 "metadata": {
  "kernelspec": {
   "display_name": "venv",
   "language": "python",
   "name": "python3"
  },
  "language_info": {
   "codemirror_mode": {
    "name": "ipython",
    "version": 3
   },
   "file_extension": ".py",
   "mimetype": "text/x-python",
   "name": "python",
   "nbconvert_exporter": "python",
   "pygments_lexer": "ipython3",
   "version": "3.10.4"
  },
  "orig_nbformat": 4,
  "vscode": {
   "interpreter": {
    "hash": "fec48fdc321f828689c53cc0330873517c5c1bca93b506c3ae4d0b6ca934a486"
   }
  }
 },
 "nbformat": 4,
 "nbformat_minor": 2
}
