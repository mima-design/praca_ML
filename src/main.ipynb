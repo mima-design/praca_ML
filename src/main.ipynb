{
 "cells": [
  {
   "cell_type": "markdown",
   "metadata": {},
   "source": [
    "## Imports"
   ]
  },
  {
   "cell_type": "code",
   "execution_count": null,
   "metadata": {},
   "outputs": [],
   "source": [
    "import pandas as pd\n",
    "import numpy as np\n",
    "\n",
    "import matplotlib.pyplot as plt\n",
    "import matplotlib.dates as mdates\n",
    "\n",
    "from sklearn.model_selection import train_test_split\n",
    "from sklearn.linear_model import LinearRegression"
   ]
  },
  {
   "attachments": {},
   "cell_type": "markdown",
   "metadata": {},
   "source": [
    "## Preprocesing"
   ]
  },
  {
   "cell_type": "code",
   "execution_count": null,
   "metadata": {},
   "outputs": [],
   "source": [
    "csv_path = '../data/household_data_60min_singleindex.csv'\n",
    "\n",
    "df = pd.read_csv(csv_path, parse_dates=[\"utc_timestamp\", \"cet_cest_timestamp\"], index_col=\"utc_timestamp\")\n",
    "\n",
    "\n",
    "columns_to_drop = [col for col in df.columns if not col.startswith('DE_KN_residential2')]\n",
    "#columns_to_drop.append('DE_KN_residential2_grid_import')\n",
    "\n",
    "# Clear data\n",
    "df = df.drop(columns= columns_to_drop)\n",
    "df = df.dropna(how='all')\n",
    "\n",
    "#Data shape and sample\n",
    "print(f'Data shape: {df.shape}')\n",
    "df.head()"
   ]
  },
  {
   "cell_type": "markdown",
   "metadata": {},
   "source": [
    "## Processing data"
   ]
  },
  {
   "cell_type": "code",
   "execution_count": null,
   "metadata": {},
   "outputs": [],
   "source": [
    "# Sum day\n",
    "df = df.resample('D').sum()"
   ]
  },
  {
   "cell_type": "code",
   "execution_count": null,
   "metadata": {},
   "outputs": [],
   "source": [
    "# Create Series\n",
    "DE_KN_residential2_circulation_pump, DE_KN_residential2_dishwasher, DE_KN_residential2_freezer, DE_KN_residential2_washing_machine, DE_KN_residential2_grid_import = df['DE_KN_residential2_circulation_pump'], df['DE_KN_residential2_dishwasher'], df['DE_KN_residential2_freezer'], df['DE_KN_residential2_washing_machine'], df['DE_KN_residential2_grid_import']\n",
    "\n",
    "# Change Series to DataFrame\n",
    "daily_usage_circulation_pump = pd.DataFrame(DE_KN_residential2_circulation_pump).diff().fillna(0)\n",
    "daily_usage_dishwasher = pd.DataFrame(DE_KN_residential2_dishwasher).diff().fillna(0)\n",
    "daily_usage_freezer = pd.DataFrame(DE_KN_residential2_freezer).diff().fillna(0)\n",
    "daily_usage_washing_machine = pd.DataFrame(DE_KN_residential2_washing_machine).diff().fillna(0)\n",
    "daily_grid_import = pd.DataFrame(DE_KN_residential2_grid_import).diff().fillna(0)\n",
    "\n",
    "print(f'Data shape: {daily_usage_circulation_pump.shape}')\n",
    "daily_usage_circulation_pump.head()"
   ]
  },
  {
   "cell_type": "code",
   "execution_count": null,
   "metadata": {},
   "outputs": [],
   "source": [
    "mean = daily_usage_circulation_pump['DE_KN_residential2_circulation_pump'].mean()\n",
    "std_dev = daily_usage_circulation_pump['DE_KN_residential2_circulation_pump'].std()\n",
    "\n",
    "# Define a range for normal values (e.g., within 2 standard deviations)\n",
    "lower_bound = mean - 5 * std_dev\n",
    "upper_bound = mean + 5 * std_dev\n",
    "\n",
    "# Filter out values outside the normal range\n",
    "df_filtered = daily_usage_circulation_pump[(daily_usage_circulation_pump['DE_KN_residential2_circulation_pump'] >= lower_bound) & (daily_usage_circulation_pump['DE_KN_residential2_circulation_pump'] <= upper_bound)]\n"
   ]
  },
  {
   "cell_type": "markdown",
   "metadata": {},
   "source": [
    "## Graphs"
   ]
  },
  {
   "cell_type": "code",
   "execution_count": null,
   "metadata": {},
   "outputs": [],
   "source": [
    "print(df_filtered.sum())\n",
    "\n",
    "plt.figure(figsize=(10,6))\n",
    "\n",
    "plt.plot(df_filtered.index, df_filtered['DE_KN_residential2_circulation_pump'])\n",
    "\n",
    "plt.xlabel('Czas')\n",
    "plt.ylabel('Wartość')\n",
    "plt.title('Wykres liniowy z kilkoma seriami danych')\n",
    "\n",
    "plt.tight_layout()\n",
    "plt.show()"
   ]
  },
  {
   "cell_type": "markdown",
   "metadata": {},
   "source": [
    "## Normality"
   ]
  },
  {
   "cell_type": "code",
   "execution_count": null,
   "metadata": {},
   "outputs": [],
   "source": [
    "from scipy.stats  import normaltest\n",
    "\n",
    "statistic, p_value = normaltest(df)\n",
    "\n",
    "print(f'Test statistic: {statistic}')\n",
    "print(f'P-values, if lower than 0.05 then its normal distribution: {np.sum(p_value)}')"
   ]
  },
  {
   "cell_type": "markdown",
   "metadata": {},
   "source": [
    "## Split data "
   ]
  },
  {
   "cell_type": "code",
   "execution_count": null,
   "metadata": {},
   "outputs": [],
   "source": [
    "# Prepare features and target\n",
    "features = df.index\n",
    "target = df\n",
    "\n",
    "# Split data for training and testing\n",
    "X_train, X_test, y_train, y_test = train_test_split(features, target, test_size=0.3, random_state=22)\n"
   ]
  },
  {
   "cell_type": "markdown",
   "metadata": {},
   "source": [
    "## LinearRegression model"
   ]
  },
  {
   "cell_type": "code",
   "execution_count": null,
   "metadata": {},
   "outputs": [],
   "source": [
    "from sklearn.linear_model import LinearRegression\n",
    "from sklearn.metrics import mean_squared_error\n",
    "\n",
    "# Create and train Linear Regression model \n",
    "model_LR = LinearRegression()\n",
    "model_LR.fit(X_train, y_train)\n",
    "\n",
    "# Prediction\n",
    "y_pred = model_LR.predict(X_test)\n",
    "\n",
    "# Evaluate model performance\n",
    "mse = mean_squared_error(y_test, y_pred)\n",
    "print(\"Mean Squared Error:\", mse)"
   ]
  }
 ],
 "metadata": {
  "kernelspec": {
   "display_name": "venv",
   "language": "python",
   "name": "python3"
  },
  "language_info": {
   "codemirror_mode": {
    "name": "ipython",
    "version": 3
   },
   "file_extension": ".py",
   "mimetype": "text/x-python",
   "name": "python",
   "nbconvert_exporter": "python",
   "pygments_lexer": "ipython3",
   "version": "3.10.4"
  },
  "orig_nbformat": 4,
  "vscode": {
   "interpreter": {
    "hash": "fec48fdc321f828689c53cc0330873517c5c1bca93b506c3ae4d0b6ca934a486"
   }
  }
 },
 "nbformat": 4,
 "nbformat_minor": 2
}
